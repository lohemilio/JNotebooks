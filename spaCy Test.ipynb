{
 "cells": [
  {
   "cell_type": "code",
   "execution_count": 1,
   "metadata": {
    "scrolled": true
   },
   "outputs": [
    {
     "name": "stdout",
     "output_type": "stream",
     "text": [
      "Noun phrases: ['Sebastian Thrun', 'self-driving cars', 'Google', 'few people', 'the company', 'him', 'I', 'you', 'very senior CEOs', 'major American car companies', 'my hand', 'I', 'Thrun', 'an interview', 'Recode']\n",
      "Verbs: ['start', 'work', 'drive', 'take', 'tell', 'shake', 'turn', 'talk', 'say']\n",
      "\n",
      " ENTITIES: \n",
      "\n",
      "Sebastian Thrun PERSON\n",
      "Google ORG\n",
      "2007 DATE\n",
      "American NORP\n",
      "Thrun ORG\n",
      "Recode PRODUCT\n",
      "earlier this week DATE\n"
     ]
    }
   ],
   "source": [
    "\n",
    "\n",
    "import spacy\n",
    "\n",
    "# Load English tokenizer, tagger, parser, NER and word vectors\n",
    "nlp = spacy.load(\"en_core_web_sm\")\n",
    "\n",
    "# Process whole documents\n",
    "\n",
    "text = (\"When Sebastian Thrun started working on self-driving cars at \"\n",
    "        \"Google in 2007, few people outside of the company took him \"\n",
    "        \"seriously. “I can tell you very senior CEOs of major American \"\n",
    "        \"car companies would shake my hand and turn away because I wasn’t \"\n",
    "        \"worth talking to,” said Thrun, in an interview with Recode earlier \"\n",
    "        \"this week.\")\n",
    "doc = nlp(text)\n",
    "\n",
    "# Analyze syntax\n",
    "print(\"Noun phrases:\", [chunk.text for chunk in doc.noun_chunks])\n",
    "print(\"Verbs:\", [token.lemma_ for token in doc if token.pos_ == \"VERB\"])\n",
    "\n",
    "# Find named entities, phrases and concepts\n",
    "print ('\\n ENTITIES: \\n')\n",
    "for entity in doc.ents:\n",
    "    print(entity.text, entity.label_)"
   ]
  },
  {
   "cell_type": "code",
   "execution_count": 2,
   "metadata": {},
   "outputs": [
    {
     "name": "stdout",
     "output_type": "stream",
     "text": [
      "Noun phrases: ['a doctor', 'a small hospital', 'people', 'people']\n",
      "Verbs: ['build', 'help', 'heal', 'give']\n",
      "\n",
      " ENTITIES: \n",
      "\n"
     ]
    }
   ],
   "source": [
    "\n",
    "\n",
    "import spacy\n",
    "\n",
    "# Load English tokenizer, tagger, parser, NER and word vectors\n",
    "nlp = spacy.load(\"en_core_web_sm\")\n",
    "\n",
    "# Process whole documents\n",
    "# Ser doctora y construir un hospital pequeño para ayudar y curar a la gente y así darle lo mejor a las personas.\n",
    "text = (\"Being a doctor and building a small hospital to help and heal people and give the best to people.\")\n",
    "doc = nlp(text)\n",
    "\n",
    "# Analyze syntax\n",
    "print(\"Noun phrases:\", [chunk.text for chunk in doc.noun_chunks])\n",
    "print(\"Verbs:\", [token.lemma_ for token in doc if token.pos_ == \"VERB\"])\n",
    "\n",
    "# Find named entities, phrases and concepts\n",
    "print ('\\n ENTITIES: \\n')\n",
    "for entity in doc.ents:\n",
    "    print(entity.text, entity.label_)"
   ]
  },
  {
   "cell_type": "code",
   "execution_count": 2,
   "metadata": {},
   "outputs": [
    {
     "name": "stdout",
     "output_type": "stream",
     "text": [
      "Noun phrases: ['a doctor', 'a small hospital', 'people', 'people']\n",
      "Verbs: ['build', 'help', 'heal', 'give']\n",
      "\n",
      " ENTITIES: \n",
      "\n"
     ]
    }
   ],
   "source": [
    "\n",
    "\n",
    "import spacy\n",
    "\n",
    "# Load English tokenizer, tagger, parser, NER and word vectors\n",
    "nlp = spacy.load(\"en_core_web_sm\")\n",
    "es_core_news_sm\n",
    "# Process whole documents\n",
    "# Ser doctora y construir un hospital pequeño para ayudar y curar a la gente y así darle lo mejor a las personas.\n",
    "text = (\"Being a doctor and building a small hospital to help and heal people and give the best to people.\")\n",
    "doc = nlp(text)\n",
    "\n",
    "# Analyze syntax\n",
    "print(\"Noun phrases:\", [chunk.text for chunk in doc.noun_chunks])\n",
    "print(\"Verbs:\", [token.lemma_ for token in doc if token.pos_ == \"VERB\"])\n",
    "\n",
    "# Find named entities, phrases and concepts\n",
    "print ('\\n ENTITIES: \\n')\n",
    "for entity in doc.ents:\n",
    "    print(entity.text, entity.label_)"
   ]
  },
  {
   "cell_type": "code",
   "execution_count": 2,
   "metadata": {
    "scrolled": false
   },
   "outputs": [
    {
     "name": "stderr",
     "output_type": "stream",
     "text": [
      "C:\\Program Files (x86)\\Microsoft Visual Studio\\Shared\\Anaconda3_64\\lib\\runpy.py:193: UserWarning: [W011] It looks like you're calling displacy.serve from within a Jupyter notebook or a similar environment. This likely means you're already running a local web server, so there's no need to make displaCy start another one. Instead, you should be able to replace displacy.serve with displacy.render to show the visualization.\n",
      "  \"__main__\", mod_spec)\n"
     ]
    },
    {
     "data": {
      "text/html": [
       "<!DOCTYPE html>\n",
       "<html lang=\"xx\">\n",
       "    <head>\n",
       "        <title>displaCy</title>\n",
       "    </head>\n",
       "\n",
       "    <body style=\"font-size: 16px; font-family: -apple-system, BlinkMacSystemFont, 'Segoe UI', Helvetica, Arial, sans-serif, 'Apple Color Emoji', 'Segoe UI Emoji', 'Segoe UI Symbol'; padding: 4rem 2rem; direction: ltr\">\n",
       "<figure style=\"margin-bottom: 6rem\">\n",
       "<div class=\"entities\" style=\"line-height: 2.5; direction: ltr\">Me considero un hombre soñador, pero me gusta actuar  y llevar a cabo las ideas que pasan por mi mente.Cuando tenia 6 años formaba parte de un equipo llamado '\n",
       "<mark class=\"entity\" style=\"background: #7aecec; padding: 0.45em 0.6em; margin: 0 0.25em; line-height: 1; border-radius: 0.35em; box-decoration-break: clone; -webkit-box-decoration-break: clone\">\n",
       "    Unión mina\n",
       "    <span style=\"font-size: 0.8em; font-weight: bold; line-height: 1; border-radius: 0.35em; text-transform: uppercase; vertical-align: middle; margin-left: 0.5rem\">ORG</span>\n",
       "</mark>\n",
       "' donde jugabamos y entrenabamos en la deportiva de \n",
       "<mark class=\"entity\" style=\"background: #ddd; padding: 0.45em 0.6em; margin: 0 0.25em; line-height: 1; border-radius: 0.35em; box-decoration-break: clone; -webkit-box-decoration-break: clone\">\n",
       "    Gómez\n",
       "    <span style=\"font-size: 0.8em; font-weight: bold; line-height: 1; border-radius: 0.35em; text-transform: uppercase; vertical-align: middle; margin-left: 0.5rem\">PER</span>\n",
       "</mark>\n",
       ", toda mi vida me ha gustado el fútbol y siento que gracias al deporte he desarrollado habilidades como la disciplina, el trabajo en equipo, la responsabilidad y he experimentado el fracaso y el éxito, siempre veía cada partido como una oportunidad de aprendizaje y como un nuevo comienzo,pues no importaba cuantas veces caíamos sino las veces que nos levantamos. Descubrí que tenía la destreza para estar a la cabeza a mi equipo y durante dos temporadas tuve el provilegio de ser el capitán.En una ocasión fui a unas visorias regionales por parte del club \n",
       "<mark class=\"entity\" style=\"background: #ddd; padding: 0.45em 0.6em; margin: 0 0.25em; line-height: 1; border-radius: 0.35em; box-decoration-break: clone; -webkit-box-decoration-break: clone\">\n",
       "    Pachuca\n",
       "    <span style=\"font-size: 0.8em; font-weight: bold; line-height: 1; border-radius: 0.35em; text-transform: uppercase; vertical-align: middle; margin-left: 0.5rem\">PER</span>\n",
       "</mark>\n",
       ",y fui seleccionado para irme a la otra etapa a \n",
       "<mark class=\"entity\" style=\"background: #ff9561; padding: 0.45em 0.6em; margin: 0 0.25em; line-height: 1; border-radius: 0.35em; box-decoration-break: clone; -webkit-box-decoration-break: clone\">\n",
       "    Pachuca Hidalgo\n",
       "    <span style=\"font-size: 0.8em; font-weight: bold; line-height: 1; border-radius: 0.35em; text-transform: uppercase; vertical-align: middle; margin-left: 0.5rem\">LOC</span>\n",
       "</mark>\n",
       ", esta y más experiencias me ha dado el fútbol, en donde he comprobado que no existen los límites,somos nosotros quienes los creamos. A lo largo de mi vida he vivido experiencias que me han marcado, una de ellas la vivo cada año en el mes de diciembre, pues mi familia y yo acostumbramos a ir a \n",
       "<mark class=\"entity\" style=\"background: #ff9561; padding: 0.45em 0.6em; margin: 0 0.25em; line-height: 1; border-radius: 0.35em; box-decoration-break: clone; -webkit-box-decoration-break: clone\">\n",
       "    San Pedro del Gallo\n",
       "    <span style=\"font-size: 0.8em; font-weight: bold; line-height: 1; border-radius: 0.35em; text-transform: uppercase; vertical-align: middle; margin-left: 0.5rem\">LOC</span>\n",
       "</mark>\n",
       ",\n",
       "<mark class=\"entity\" style=\"background: #ddd; padding: 0.45em 0.6em; margin: 0 0.25em; line-height: 1; border-radius: 0.35em; box-decoration-break: clone; -webkit-box-decoration-break: clone\">\n",
       "    Dgo\n",
       "    <span style=\"font-size: 0.8em; font-weight: bold; line-height: 1; border-radius: 0.35em; text-transform: uppercase; vertical-align: middle; margin-left: 0.5rem\">PER</span>\n",
       "</mark>\n",
       " a llevar bolos a los niños y adultos de esta comunidad, así como también les llevamos juguetes , quebramos la piñata y convivimos con ellos, cada año resulta ser una experiencia única, pues basta ver la sonrisa de un niño corriendo hacia ti sin palabras para agradecer lo que siente por haber hecho un pequeño acto de amor.He hecho un recuento de mi vida, y me he percatado de lo mucho que he madurado por mis experiencias vividas y algunas otras las he vivido a través del sufrimiento y esfuerzo de mi papá, pues sé muy bien el gran sacrificio que día a día hace para darnos estudios,trabajando horas extras bajo el sol y sé no es un camino fácil pero el sacrificio tiene una recompensa muy grande. Estoy seguro que siempre se puede salir adelante de las adversidades,solo hace falta las ganas de salir adelante y no desfallecer, mi mamá es una prueba clara, pues aunque mi papá siempre ha trabajado \n",
       "<mark class=\"entity\" style=\"background: #ddd; padding: 0.45em 0.6em; margin: 0 0.25em; line-height: 1; border-radius: 0.35em; box-decoration-break: clone; -webkit-box-decoration-break: clone\">\n",
       "    lejos(ahorita en Chihuahua\n",
       "    <span style=\"font-size: 0.8em; font-weight: bold; line-height: 1; border-radius: 0.35em; text-transform: uppercase; vertical-align: middle; margin-left: 0.5rem\">MISC</span>\n",
       "</mark>\n",
       ") , siempre ha sabido guiarnos y juntos  han sido mi mejor ejemplo y me han inculcado los valores que hasta ahora tengo.Me gusta compartir lo que se y ser útil para los demás.Hace tiempo decidí tomar clase de barbería y aunque admito que no fue nada fácil, con la constancia fui perfeccionando la técnica, la primer maquina de cabello que tuve , era de un tío que  la iba a desechar porque no servia, y mi papá y yo nos la ingeniamos y la arreglamos con nuestras manos, luego comencé a interesarme por saber como utilizarla, pues por haberla reparado tenía un significado especial, quien lo diría que actualmente soy peluquero y que tengo más de un año realizando esta actividad. Siempre ha sido uno de mis sueños estar en una institución de tan alto prestigio como lo es el \n",
       "<mark class=\"entity\" style=\"background: #ff9561; padding: 0.45em 0.6em; margin: 0 0.25em; line-height: 1; border-radius: 0.35em; box-decoration-break: clone; -webkit-box-decoration-break: clone\">\n",
       "    Tecnológico de Monterrey\n",
       "    <span style=\"font-size: 0.8em; font-weight: bold; line-height: 1; border-radius: 0.35em; text-transform: uppercase; vertical-align: middle; margin-left: 0.5rem\">LOC</span>\n",
       "</mark>\n",
       ", donde además del estudio buscan formar líderes emprendedores comprometidos con mejorar su entorno y la sociedad en general.Siempre que pienso en esta institución me siento identificado con ella,pues pienso que los profesores tienen las herramientas y yo tengo las ganas para aplicar todos los conocimientos adquiridos y contagiar a mis compañeros para que sientan empatia por las problemáticas que son reales y que juntos busquemos soluciones que estén a nuestro alcance resolver. Mi meta a largo plazo es graduarme y me visualizo a futuro como un profesionista , con mi título universitario de \n",
       "<mark class=\"entity\" style=\"background: #ff9561; padding: 0.45em 0.6em; margin: 0 0.25em; line-height: 1; border-radius: 0.35em; box-decoration-break: clone; -webkit-box-decoration-break: clone\">\n",
       "    Ingeniero\n",
       "    <span style=\"font-size: 0.8em; font-weight: bold; line-height: 1; border-radius: 0.35em; text-transform: uppercase; vertical-align: middle; margin-left: 0.5rem\">LOC</span>\n",
       "</mark>\n",
       " en \n",
       "<mark class=\"entity\" style=\"background: #ff9561; padding: 0.45em 0.6em; margin: 0 0.25em; line-height: 1; border-radius: 0.35em; box-decoration-break: clone; -webkit-box-decoration-break: clone\">\n",
       "    Mecatrónica\n",
       "    <span style=\"font-size: 0.8em; font-weight: bold; line-height: 1; border-radius: 0.35em; text-transform: uppercase; vertical-align: middle; margin-left: 0.5rem\">LOC</span>\n",
       "</mark>\n",
       " donde pueda trabajar en una empresa con un alto puesto,me gustaría que al egresar sea capaz de desarrollar nuevas tecnologías con la ayuda de todo lo aprendido a lo largo de la carrera. Considero que lo que distingue a una persona no es la cantidad de recursos que tiene, sino que es lo que hace con ellos, no importa si son muchos o pocos sino el fin por el que quieras desarrollarlos, en mi caso me gustaría trabajar y desarrollar proyectos que sean utilizados para beneficio de mi sociedad, pues lo que siempre busco es generar un impacto positivo en mi comunidad y en cada una de las personas que se enteren, sea yo capaz de hacerlas participes del proyecto y así ir creando una cadena.Me gustaría diseñar o crear manos y pies robóticos que reemplacen las partes humanas para las personas que les hagan falta extremidades en su cuerpo y poder ser participe de que ellos puedan mejorar su calidad de vida.He tenido muchas vivencias a lo largo de mi vida y me he percatado de las problemáticas que existen cerca de mi, es por eso que quiero hacer algo para  solucionar dichos problemas, además siento un dese muy fuerte por contribuir en el sector relacionado con la salud y los hospitales, pues desde que tuve la posibilidad de ir a visitar a mi hermana cuando estuvo internada, pude enfrentarme a una realidad en donde vi a muchos pacientes que estaban enfermos  y que estaban pasando por muchas incomodidades que pudieran ser resueltas como nuevas innovaciones y que junto con la tecnología pudieran resolverse, es por eso que es importante detectar los problemas que aunque parecieran no tener repercusiones en mi vida, me afectan como sociedad en conjunto.  \n",
       "<mark class=\"entity\" style=\"background: #ddd; padding: 0.45em 0.6em; margin: 0 0.25em; line-height: 1; border-radius: 0.35em; box-decoration-break: clone; -webkit-box-decoration-break: clone\">\n",
       "    Otro de mis sueños\n",
       "    <span style=\"font-size: 0.8em; font-weight: bold; line-height: 1; border-radius: 0.35em; text-transform: uppercase; vertical-align: middle; margin-left: 0.5rem\">MISC</span>\n",
       "</mark>\n",
       " es poner una empresa en \n",
       "<mark class=\"entity\" style=\"background: #ff9561; padding: 0.45em 0.6em; margin: 0 0.25em; line-height: 1; border-radius: 0.35em; box-decoration-break: clone; -webkit-box-decoration-break: clone\">\n",
       "    San Pedro del Gallo\n",
       "    <span style=\"font-size: 0.8em; font-weight: bold; line-height: 1; border-radius: 0.35em; text-transform: uppercase; vertical-align: middle; margin-left: 0.5rem\">LOC</span>\n",
       "</mark>\n",
       ",donde nació mi papa, él me ha enseñado a no olvidar mis raíces, yo vengo de ahí y si tengo la oportunidad de crecer siempre sera para apoyar a mi comunidad y hacer de ella un lugar mejor. Me gustaría abrir una casa hogar, pues los niños tienen ganado todo mi corazón, y ademas así podría ayudarlos a que se formen desde temprana edad y puedan desarrollar sus habilidades y competencias de la mejor manera posible. </div>\n",
       "</figure>\n",
       "</body>\n",
       "</html>"
      ],
      "text/plain": [
       "<IPython.core.display.HTML object>"
      ]
     },
     "metadata": {},
     "output_type": "display_data"
    },
    {
     "name": "stdout",
     "output_type": "stream",
     "text": [
      "\n",
      "Using the 'ent' visualizer\n",
      "Serving on http://0.0.0.0:5000 ...\n",
      "\n",
      "Shutting down server on port 5000.\n",
      "NOUN PHRASES:\n",
      " ['Me', 'un hombre', 'me', 'cabo', 'las ideas', 'que', 'mi mente', 'años', 'parte', 'un equipo', \"Unión mina'\", 'donde', 'la deportiva', 'Gómez', 'mi vida', 'me', 'el fútbol', 'que', 'gracias al', 'deporte', 'habilidades', 'la disciplina', 'el trabajo', 'equipo', 'la responsabilidad', 'el fracaso', 'el éxito', 'cada partido', 'una oportunidad', 'aprendizaje', 'un nuevo comienzo', 'cuantas veces', 'las veces', 'que', 'nos', 'Descubrí', 'la destreza', 'la cabeza', 'mi equipo', 'temporadas', 'el provilegio', 'el capitán', 'una ocasión', 'unas visorias', 'parte', 'club', 'Pachuca', 'irme', 'la otra etapa', 'Pachuca Hidalgo', 'esta', 'experiencias', 'me', 'el fútbol', 'donde', 'los límites', 'nosotros', 'quienes', 'largo', 'mi vida', 'experiencias', 'que', 'me', 'una', 'ellas', 'la', 'cada año', 'el mes de diciembre', 'mi familia', 'yo', 'San Pedro del Gallo', 'los niños', 'adultos', 'esta comunidad', 'les', 'la piñata', 'ellos', 'cada año', 'una experiencia', 'la sonrisa', 'un niño', 'ti', 'palabras', 'que', 'un pequeño acto', 'amor', 'un recuento', 'mi vida', 'me', 'mucho', 'que', 'mis experiencias', 'algunas', 'las', 'través', 'sufrimiento', 'esfuerzo', 'mi papá', 'el gran sacrificio', 'que', 'día', 'día', 'darnos', 'horas', 'el sol', 'un camino', 'el sacrificio', 'una recompensa', 'se', 'las adversidades', 'falta', 'las ganas', 'mi mamá', 'una prueba', 'mi papá', 'lejos(ahorita', 'Chihuahua', 'mi mejor ejemplo', 'me', 'los valores', 'que', 'Me', 'que', 'se', 'los demás', 'tiempo', 'clase', 'barbería', 'la constancia', 'la técnica', 'la primer maquina', 'cabello', 'un tío', 'que', 'la', 'mi papá', 'yo', 'nos', 'la', 'la', 'nuestras manos', 'interesarme', 'haberla', 'un significado', 'quien', 'lo', 'peluquero', 'un año', 'esta actividad', 'uno', 'mis sueños', 'una institución', 'prestigio', 'lo', 'el Tecnológico de Monterrey', 'donde', 'estudio', 'líderes', 'emprendedores', 'su entorno', 'la sociedad', 'general', 'esta institución', 'me', 'ella', 'los profesores', 'las herramientas', 'yo', 'las ganas', 'los conocimientos', 'mis compañeros', 'las problemáticas', 'que', 'soluciones', 'que', 'nuestro alcance', 'Mi meta', 'plazo', 'graduarme', 'me', 'futuro', 'un profesionista', 'mi título', 'Ingeniero', 'Mecatrónica', 'donde', 'una empresa', 'un alto puesto', 'me', 'tecnologías', 'la ayuda', 'largo', 'la carrera', 'que', 'una persona', 'la cantidad', 'recursos', 'que', 'que', 'ellos', 'muchos', 'pocos', 'el fin', 'el que', 'mi caso', 'me', 'proyectos', 'que', 'beneficio', 'mi sociedad', 'que', 'un impacto', 'mi comunidad', 'cada una', 'las personas', 'que', 'se', 'yo', 'hacerlas', 'proyecto', 'una cadena', 'Me', 'manos', 'pies', 'que', 'las partes', 'las personas', 'que', 'les', 'falta', 'su cuerpo', 'ellos', 'su calidad', 'vida', 'muchas vivencias', 'largo', 'mi vida', 'me', 'las problemáticas', 'que', 'mi', 'eso', 'algo', 'problemas', 'un dese', 'el sector', 'la salud', 'los hospitales', 'la posibilidad', 'mi hermana', 'internada', 'pude', 'enfrentarme', 'una realidad', 'donde', 'muchos pacientes', 'que', 'enfermos', 'que', 'muchas incomodidades', 'que', 'innovaciones', 'que', 'la tecnología', 'resolverse', 'eso', 'los problemas', 'que', 'repercusiones', 'mi vida', 'me', 'sociedad', 'conjunto', 'Otro', 'mis sueños', 'una empresa', 'San Pedro del Gallo', 'donde', 'mi papa', 'él', 'me', 'mis raíces', 'yo', 'la oportunidad', 'mi comunidad', 'ella', 'un lugar', 'Me', 'una casa', 'hogar', 'los niños', 'ganado', 'mi corazón', 'ayudarlos', 'se', 'edad', 'sus habilidades', 'competencias', 'la mejor manera']\n",
      "\n",
      "\n",
      "VERBS: ['considerar', 'gustar', 'actuar', 'llevar', 'pasar', 'tenia', 'formar', 'jugabamos', 'entrenabamos', 'gustar', 'sentir', 'desarrollar', 'experimentar', 'ver', 'importar', 'caer', 'levantar', 'tener', 'estar', 'tener', 'dar', 'comprobar', 'existir', 'creer', 'vivir', 'marcar', 'vivir', 'acostumbrar', 'ir', 'llevar', 'llevar', 'quebrar', 'convivir', 'resultar', 'basto', 'ver', 'correr', 'agradecer', 'sentir', 'hacer', 'hacer', 'percatar', 'madurar', 'vivir', 'ser', 'hacer', 'trabajar', 'ser', 'tener', 'Estoy', 'salir', 'hacer', 'salir', 'desfallecer', 'trabajar', 'saber', 'inculcar', 'tener', 'gustar', 'compartir', 'decidir', 'tomar', 'admitir', 'perfeccionar', 'tener', 'desechar', 'servio', 'ingeniar', 'arreglar', 'comenzar', 'saber', 'tener', 'decir', 'tener', 'realizar', 'estar', 'buscar', 'formar', 'mejorar', 'pensar', 'sentir', 'pensar', 'tener', 'tener', 'aplicar', 'contagiar', 'sentir', 'empatia', 'resolver', 'visualizar', 'trabajar', 'gustar', 'egresar', 'desarrollar', 'Considero', 'distinguir', 'tener', 'hacer', 'importar', 'querer', 'gustar', 'trabajar', 'desarrollar', 'utilizar', 'buscar', 'generar', 'enterar', 'crear', 'gustar', 'diseñar', 'crear', 'reemplazar', 'hacer', 'participar', 'mejorar', 'tener', 'percatar', 'existir', 'querer', 'hacer', 'solucionar', 'sentir', 'contribuir', 'tener', 'visitar', 'ver', 'estar', 'pasar', 'resolver', 'detectar', 'parecer', 'tener', 'afectar', 'poner', 'nacer', 'enseñar', 'olvidar', 'venir', 'tener', 'crecer', 'apoyar', 'hacer', 'gustar', 'abrir', 'tener', 'ademar', 'formar', 'desarrollar']\n",
      "\n",
      "\n",
      "ENTITIES:\n",
      "\n",
      "Unión mina ORG\n",
      "Gómez PER\n",
      "Pachuca PER\n",
      "Pachuca Hidalgo LOC\n",
      "San Pedro del Gallo LOC\n",
      "Dgo PER\n",
      "lejos(ahorita en Chihuahua MISC\n",
      "Tecnológico de Monterrey LOC\n",
      "Ingeniero LOC\n",
      "Mecatrónica LOC\n",
      "Otro de mis sueños MISC\n",
      "San Pedro del Gallo LOC\n"
     ]
    }
   ],
   "source": [
    "import spacy\n",
    "from spacy import displacy\n",
    "\n",
    "nlpVerbs = spacy.load(\"es_core_news_sm\")\n",
    "nlpEntities = spacy.load(\"xx_ent_wiki_sm\")\n",
    "\n",
    "docVerbs = nlpVerbs(\"Me considero un hombre soñador, pero me gusta actuar  y llevar a cabo las ideas que pasan por mi mente.Cuando tenia 6 años formaba parte de un equipo llamado 'Unión mina' donde jugabamos y entrenabamos en la deportiva de Gómez, toda mi vida me ha gustado el fútbol y siento que gracias al deporte he desarrollado habilidades como la disciplina, el trabajo en equipo, la responsabilidad y he experimentado el fracaso y el éxito, siempre veía cada partido como una oportunidad de aprendizaje y como un nuevo comienzo,pues no importaba cuantas veces caíamos sino las veces que nos levantamos. Descubrí que tenía la destreza para estar a la cabeza a mi equipo y durante dos temporadas tuve el provilegio de ser el capitán.En una ocasión fui a unas visorias regionales por parte del club Pachuca,y fui seleccionado para irme a la otra etapa a Pachuca Hidalgo, esta y más experiencias me ha dado el fútbol, en donde he comprobado que no existen los límites,somos nosotros quienes los creamos. A lo largo de mi vida he vivido experiencias que me han marcado, una de ellas la vivo cada año en el mes de diciembre, pues mi familia y yo acostumbramos a ir a San Pedro del Gallo,Dgo a llevar bolos a los niños y adultos de esta comunidad, así como también les llevamos juguetes , quebramos la piñata y convivimos con ellos, cada año resulta ser una experiencia única, pues basta ver la sonrisa de un niño corriendo hacia ti sin palabras para agradecer lo que siente por haber hecho un pequeño acto de amor.He hecho un recuento de mi vida, y me he percatado de lo mucho que he madurado por mis experiencias vividas y algunas otras las he vivido a través del sufrimiento y esfuerzo de mi papá, pues sé muy bien el gran sacrificio que día a día hace para darnos estudios,trabajando horas extras bajo el sol y sé no es un camino fácil pero el sacrificio tiene una recompensa muy grande. Estoy seguro que siempre se puede salir adelante de las adversidades,solo hace falta las ganas de salir adelante y no desfallecer, mi mamá es una prueba clara, pues aunque mi papá siempre ha trabajado lejos(ahorita en Chihuahua) , siempre ha sabido guiarnos y juntos  han sido mi mejor ejemplo y me han inculcado los valores que hasta ahora tengo.Me gusta compartir lo que se y ser útil para los demás.Hace tiempo decidí tomar clase de barbería y aunque admito que no fue nada fácil, con la constancia fui perfeccionando la técnica, la primer maquina de cabello que tuve , era de un tío que  la iba a desechar porque no servia, y mi papá y yo nos la ingeniamos y la arreglamos con nuestras manos, luego comencé a interesarme por saber como utilizarla, pues por haberla reparado tenía un significado especial, quien lo diría que actualmente soy peluquero y que tengo más de un año realizando esta actividad. Siempre ha sido uno de mis sueños estar en una institución de tan alto prestigio como lo es el Tecnológico de Monterrey, donde además del estudio buscan formar líderes emprendedores comprometidos con mejorar su entorno y la sociedad en general.Siempre que pienso en esta institución me siento identificado con ella,pues pienso que los profesores tienen las herramientas y yo tengo las ganas para aplicar todos los conocimientos adquiridos y contagiar a mis compañeros para que sientan empatia por las problemáticas que son reales y que juntos busquemos soluciones que estén a nuestro alcance resolver. Mi meta a largo plazo es graduarme y me visualizo a futuro como un profesionista , con mi título universitario de Ingeniero en Mecatrónica donde pueda trabajar en una empresa con un alto puesto,me gustaría que al egresar sea capaz de desarrollar nuevas tecnologías con la ayuda de todo lo aprendido a lo largo de la carrera. Considero que lo que distingue a una persona no es la cantidad de recursos que tiene, sino que es lo que hace con ellos, no importa si son muchos o pocos sino el fin por el que quieras desarrollarlos, en mi caso me gustaría trabajar y desarrollar proyectos que sean utilizados para beneficio de mi sociedad, pues lo que siempre busco es generar un impacto positivo en mi comunidad y en cada una de las personas que se enteren, sea yo capaz de hacerlas participes del proyecto y así ir creando una cadena.Me gustaría diseñar o crear manos y pies robóticos que reemplacen las partes humanas para las personas que les hagan falta extremidades en su cuerpo y poder ser participe de que ellos puedan mejorar su calidad de vida.He tenido muchas vivencias a lo largo de mi vida y me he percatado de las problemáticas que existen cerca de mi, es por eso que quiero hacer algo para  solucionar dichos problemas, además siento un dese muy fuerte por contribuir en el sector relacionado con la salud y los hospitales, pues desde que tuve la posibilidad de ir a visitar a mi hermana cuando estuvo internada, pude enfrentarme a una realidad en donde vi a muchos pacientes que estaban enfermos  y que estaban pasando por muchas incomodidades que pudieran ser resueltas como nuevas innovaciones y que junto con la tecnología pudieran resolverse, es por eso que es importante detectar los problemas que aunque parecieran no tener repercusiones en mi vida, me afectan como sociedad en conjunto.  Otro de mis sueños es poner una empresa en San Pedro del Gallo,donde nació mi papa, él me ha enseñado a no olvidar mis raíces, yo vengo de ahí y si tengo la oportunidad de crecer siempre sera para apoyar a mi comunidad y hacer de ella un lugar mejor. Me gustaría abrir una casa hogar, pues los niños tienen ganado todo mi corazón, y ademas así podría ayudarlos a que se formen desde temprana edad y puedan desarrollar sus habilidades y competencias de la mejor manera posible. \")\n",
    "docEntities = nlpEntities(\"Me considero un hombre soñador, pero me gusta actuar  y llevar a cabo las ideas que pasan por mi mente.Cuando tenia 6 años formaba parte de un equipo llamado 'Unión mina' donde jugabamos y entrenabamos en la deportiva de Gómez, toda mi vida me ha gustado el fútbol y siento que gracias al deporte he desarrollado habilidades como la disciplina, el trabajo en equipo, la responsabilidad y he experimentado el fracaso y el éxito, siempre veía cada partido como una oportunidad de aprendizaje y como un nuevo comienzo,pues no importaba cuantas veces caíamos sino las veces que nos levantamos. Descubrí que tenía la destreza para estar a la cabeza a mi equipo y durante dos temporadas tuve el provilegio de ser el capitán.En una ocasión fui a unas visorias regionales por parte del club Pachuca,y fui seleccionado para irme a la otra etapa a Pachuca Hidalgo, esta y más experiencias me ha dado el fútbol, en donde he comprobado que no existen los límites,somos nosotros quienes los creamos. A lo largo de mi vida he vivido experiencias que me han marcado, una de ellas la vivo cada año en el mes de diciembre, pues mi familia y yo acostumbramos a ir a San Pedro del Gallo,Dgo a llevar bolos a los niños y adultos de esta comunidad, así como también les llevamos juguetes , quebramos la piñata y convivimos con ellos, cada año resulta ser una experiencia única, pues basta ver la sonrisa de un niño corriendo hacia ti sin palabras para agradecer lo que siente por haber hecho un pequeño acto de amor.He hecho un recuento de mi vida, y me he percatado de lo mucho que he madurado por mis experiencias vividas y algunas otras las he vivido a través del sufrimiento y esfuerzo de mi papá, pues sé muy bien el gran sacrificio que día a día hace para darnos estudios,trabajando horas extras bajo el sol y sé no es un camino fácil pero el sacrificio tiene una recompensa muy grande. Estoy seguro que siempre se puede salir adelante de las adversidades,solo hace falta las ganas de salir adelante y no desfallecer, mi mamá es una prueba clara, pues aunque mi papá siempre ha trabajado lejos(ahorita en Chihuahua) , siempre ha sabido guiarnos y juntos  han sido mi mejor ejemplo y me han inculcado los valores que hasta ahora tengo.Me gusta compartir lo que se y ser útil para los demás.Hace tiempo decidí tomar clase de barbería y aunque admito que no fue nada fácil, con la constancia fui perfeccionando la técnica, la primer maquina de cabello que tuve , era de un tío que  la iba a desechar porque no servia, y mi papá y yo nos la ingeniamos y la arreglamos con nuestras manos, luego comencé a interesarme por saber como utilizarla, pues por haberla reparado tenía un significado especial, quien lo diría que actualmente soy peluquero y que tengo más de un año realizando esta actividad. Siempre ha sido uno de mis sueños estar en una institución de tan alto prestigio como lo es el Tecnológico de Monterrey, donde además del estudio buscan formar líderes emprendedores comprometidos con mejorar su entorno y la sociedad en general.Siempre que pienso en esta institución me siento identificado con ella,pues pienso que los profesores tienen las herramientas y yo tengo las ganas para aplicar todos los conocimientos adquiridos y contagiar a mis compañeros para que sientan empatia por las problemáticas que son reales y que juntos busquemos soluciones que estén a nuestro alcance resolver. Mi meta a largo plazo es graduarme y me visualizo a futuro como un profesionista , con mi título universitario de Ingeniero en Mecatrónica donde pueda trabajar en una empresa con un alto puesto,me gustaría que al egresar sea capaz de desarrollar nuevas tecnologías con la ayuda de todo lo aprendido a lo largo de la carrera. Considero que lo que distingue a una persona no es la cantidad de recursos que tiene, sino que es lo que hace con ellos, no importa si son muchos o pocos sino el fin por el que quieras desarrollarlos, en mi caso me gustaría trabajar y desarrollar proyectos que sean utilizados para beneficio de mi sociedad, pues lo que siempre busco es generar un impacto positivo en mi comunidad y en cada una de las personas que se enteren, sea yo capaz de hacerlas participes del proyecto y así ir creando una cadena.Me gustaría diseñar o crear manos y pies robóticos que reemplacen las partes humanas para las personas que les hagan falta extremidades en su cuerpo y poder ser participe de que ellos puedan mejorar su calidad de vida.He tenido muchas vivencias a lo largo de mi vida y me he percatado de las problemáticas que existen cerca de mi, es por eso que quiero hacer algo para  solucionar dichos problemas, además siento un dese muy fuerte por contribuir en el sector relacionado con la salud y los hospitales, pues desde que tuve la posibilidad de ir a visitar a mi hermana cuando estuvo internada, pude enfrentarme a una realidad en donde vi a muchos pacientes que estaban enfermos  y que estaban pasando por muchas incomodidades que pudieran ser resueltas como nuevas innovaciones y que junto con la tecnología pudieran resolverse, es por eso que es importante detectar los problemas que aunque parecieran no tener repercusiones en mi vida, me afectan como sociedad en conjunto.  Otro de mis sueños es poner una empresa en San Pedro del Gallo,donde nació mi papa, él me ha enseñado a no olvidar mis raíces, yo vengo de ahí y si tengo la oportunidad de crecer siempre sera para apoyar a mi comunidad y hacer de ella un lugar mejor. Me gustaría abrir una casa hogar, pues los niños tienen ganado todo mi corazón, y ademas así podría ayudarlos a que se formen desde temprana edad y puedan desarrollar sus habilidades y competencias de la mejor manera posible. \")\n",
    "\n",
    "#displacy.render(docVerbs)\n",
    "\n",
    "#print(\"RECOGNITIONS:\\n\")\n",
    "#for t in docVerbs:\n",
    "#    print(t,t.pos_)\n",
    "\n",
    "spacy.displacy.serve(docEntities, style='ent')\n",
    "\n",
    "print(\"NOUN PHRASES:\\n\", [chunk.text for chunk in docVerbs.noun_chunks])\n",
    "print(\"\\n\\nVERBS:\", [token.lemma_ for token in docVerbs if token.pos_ == \"VERB\"])\n",
    "\n",
    "print(\"\\n\\nENTITIES:\\n\")\n",
    "for entity in docEntities.ents:\n",
    "    print(entity.text, entity.label_)\n",
    "\n",
    "#print(\"\\n\\n\")\n",
    "#for token in doc:\n",
    "#    print(token.text, token.pos_, token.dep_)"
   ]
  },
  {
   "cell_type": "markdown",
   "metadata": {},
   "source": [
    "### TYPE\tDESCRIPTION\n",
    "### PER\tNamed person or family.\n",
    "### LOC\tName of politically or geographically defined location (cities, provinces, countries, international regions, bodies of water, mountains).\n",
    "### ORG\tNamed corporate, governmental, or other organizational entity.\n",
    "### MISC\tMiscellaneous entities, e.g. events, nationalities, products or works of art."
   ]
  }
 ],
 "metadata": {
  "celltoolbar": "Raw Cell Format",
  "kernelspec": {
   "display_name": "Python 3",
   "language": "python",
   "name": "python3"
  },
  "language_info": {
   "codemirror_mode": {
    "name": "ipython",
    "version": 3
   },
   "file_extension": ".py",
   "mimetype": "text/x-python",
   "name": "python",
   "nbconvert_exporter": "python",
   "pygments_lexer": "ipython3",
   "version": "3.6.8"
  }
 },
 "nbformat": 4,
 "nbformat_minor": 2
}

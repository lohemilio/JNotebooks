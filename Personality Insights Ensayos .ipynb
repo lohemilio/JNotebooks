{
 "cells": [
  {
   "cell_type": "markdown",
   "metadata": {},
   "source": [
    "## Importación de librerías y datos"
   ]
  },
  {
   "cell_type": "code",
   "execution_count": 1,
   "metadata": {},
   "outputs": [],
   "source": [
    "import pandas as pd\n",
    "import json\n",
    "import seaborn as sns\n",
    "import numpy as np\n",
    "\n",
    "from matplotlib import pyplot as plt \n",
    "from watson_developer_cloud import PersonalityInsightsV3\n",
    "\n",
    "\n"
   ]
  },
  {
   "cell_type": "code",
   "execution_count": 2,
   "metadata": {},
   "outputs": [],
   "source": [
    "ensayosData = pd.read_excel(r'DataSets/muestra_total_profesional.xlsx')"
   ]
  },
  {
   "cell_type": "code",
   "execution_count": 3,
   "metadata": {
    "scrolled": true
   },
   "outputs": [
    {
     "data": {
      "text/html": [
       "<div>\n",
       "<style scoped>\n",
       "    .dataframe tbody tr th:only-of-type {\n",
       "        vertical-align: middle;\n",
       "    }\n",
       "\n",
       "    .dataframe tbody tr th {\n",
       "        vertical-align: top;\n",
       "    }\n",
       "\n",
       "    .dataframe thead th {\n",
       "        text-align: right;\n",
       "    }\n",
       "</style>\n",
       "<table border=\"1\" class=\"dataframe\">\n",
       "  <thead>\n",
       "    <tr style=\"text-align: right;\">\n",
       "      <th></th>\n",
       "      <th>X1</th>\n",
       "      <th>ARROBA</th>\n",
       "      <th>N00</th>\n",
       "      <th>TERM</th>\n",
       "      <th>EXPERIENCIA</th>\n",
       "      <th>METAS</th>\n",
       "      <th>P1</th>\n",
       "      <th>DEPORTIVAS</th>\n",
       "      <th>DEPORTIVAS_ACTU</th>\n",
       "      <th>P2</th>\n",
       "      <th>...</th>\n",
       "      <th>Foraneo</th>\n",
       "      <th>%Beca</th>\n",
       "      <th>Inglés</th>\n",
       "      <th>DIng3y4</th>\n",
       "      <th>DIng5y6</th>\n",
       "      <th>DLengExt</th>\n",
       "      <th>DTEC</th>\n",
       "      <th>FTE</th>\n",
       "      <th>Ensayo</th>\n",
       "      <th>Curriculo</th>\n",
       "    </tr>\n",
       "  </thead>\n",
       "  <tbody>\n",
       "    <tr>\n",
       "      <th>0</th>\n",
       "      <td>9398</td>\n",
       "      <td>@03183694</td>\n",
       "      <td>N00645047</td>\n",
       "      <td>201813</td>\n",
       "      <td>Cuando cumplí 15 años estaba ansiosa por conoc...</td>\n",
       "      <td>Me veo en un futuro como una profesionista exi...</td>\n",
       "      <td>b</td>\n",
       "      <td>Soy parte del equipo de futbol en mi escuela I...</td>\n",
       "      <td>S</td>\n",
       "      <td>b</td>\n",
       "      <td>...</td>\n",
       "      <td>NO</td>\n",
       "      <td>60.000000</td>\n",
       "      <td>Lengua extranjera</td>\n",
       "      <td>0</td>\n",
       "      <td>0</td>\n",
       "      <td>1</td>\n",
       "      <td>0</td>\n",
       "      <td>1.153846</td>\n",
       "      <td>25</td>\n",
       "      <td>15</td>\n",
       "    </tr>\n",
       "    <tr>\n",
       "      <th>1</th>\n",
       "      <td>895</td>\n",
       "      <td>@02548142</td>\n",
       "      <td>N00638635</td>\n",
       "      <td>201813</td>\n",
       "      <td>Considero que el baloncesto es la experiencia ...</td>\n",
       "      <td>Considero que puedo aportar a la comunidad est...</td>\n",
       "      <td>d</td>\n",
       "      <td>He obtenido varios logros en el baloncesto gra...</td>\n",
       "      <td>S</td>\n",
       "      <td>a</td>\n",
       "      <td>...</td>\n",
       "      <td>NO</td>\n",
       "      <td>100.000000</td>\n",
       "      <td>Inglés remedial III</td>\n",
       "      <td>1</td>\n",
       "      <td>0</td>\n",
       "      <td>0</td>\n",
       "      <td>0</td>\n",
       "      <td>0.846154</td>\n",
       "      <td>19</td>\n",
       "      <td>25</td>\n",
       "    </tr>\n",
       "    <tr>\n",
       "      <th>2</th>\n",
       "      <td>3546</td>\n",
       "      <td>@02840940</td>\n",
       "      <td>N00597655</td>\n",
       "      <td>201813</td>\n",
       "      <td>Aunque durante toda mi vida escolar he trabaja...</td>\n",
       "      <td>Quiero ser Ingeniero Mecatronico porque quiero...</td>\n",
       "      <td>b</td>\n",
       "      <td>En el Instituto Cumbres Piedras Negras he part...</td>\n",
       "      <td>S</td>\n",
       "      <td>b</td>\n",
       "      <td>...</td>\n",
       "      <td>NO</td>\n",
       "      <td>15.000989</td>\n",
       "      <td>Sin información</td>\n",
       "      <td>0</td>\n",
       "      <td>0</td>\n",
       "      <td>0</td>\n",
       "      <td>0</td>\n",
       "      <td>0.692308</td>\n",
       "      <td>15</td>\n",
       "      <td>15</td>\n",
       "    </tr>\n",
       "    <tr>\n",
       "      <th>3</th>\n",
       "      <td>2815</td>\n",
       "      <td>@02829415</td>\n",
       "      <td>N00591191</td>\n",
       "      <td>201813</td>\n",
       "      <td>Experiencia de vidaMi colegio, el Instituto Cu...</td>\n",
       "      <td>CompromisoDesde que comencé mi vida estudianti...</td>\n",
       "      <td>c</td>\n",
       "      <td>He participado en 2 Torneos de la Amistad, com...</td>\n",
       "      <td>S</td>\n",
       "      <td>a</td>\n",
       "      <td>...</td>\n",
       "      <td>NO</td>\n",
       "      <td>59.999829</td>\n",
       "      <td>Sin información</td>\n",
       "      <td>0</td>\n",
       "      <td>0</td>\n",
       "      <td>0</td>\n",
       "      <td>0</td>\n",
       "      <td>1.000000</td>\n",
       "      <td>25</td>\n",
       "      <td>25</td>\n",
       "    </tr>\n",
       "    <tr>\n",
       "      <th>4</th>\n",
       "      <td>390</td>\n",
       "      <td>@02459560</td>\n",
       "      <td>N00556452</td>\n",
       "      <td>201813</td>\n",
       "      <td>'Un cuerpo pequeño de espíritu determinado enc...</td>\n",
       "      <td>'Vive como si fueras a morir mañana, aprende c...</td>\n",
       "      <td>b</td>\n",
       "      <td>En mi transcurso de la primer en el nivel depo...</td>\n",
       "      <td>S</td>\n",
       "      <td>b</td>\n",
       "      <td>...</td>\n",
       "      <td>NO</td>\n",
       "      <td>20.000863</td>\n",
       "      <td>Inglés remedial IV</td>\n",
       "      <td>1</td>\n",
       "      <td>0</td>\n",
       "      <td>0</td>\n",
       "      <td>0</td>\n",
       "      <td>1.000000</td>\n",
       "      <td>6</td>\n",
       "      <td>15</td>\n",
       "    </tr>\n",
       "  </tbody>\n",
       "</table>\n",
       "<p>5 rows × 87 columns</p>\n",
       "</div>"
      ],
      "text/plain": [
       "     X1     ARROBA        N00    TERM  \\\n",
       "0  9398  @03183694  N00645047  201813   \n",
       "1   895  @02548142  N00638635  201813   \n",
       "2  3546  @02840940  N00597655  201813   \n",
       "3  2815  @02829415  N00591191  201813   \n",
       "4   390  @02459560  N00556452  201813   \n",
       "\n",
       "                                         EXPERIENCIA  \\\n",
       "0  Cuando cumplí 15 años estaba ansiosa por conoc...   \n",
       "1  Considero que el baloncesto es la experiencia ...   \n",
       "2  Aunque durante toda mi vida escolar he trabaja...   \n",
       "3  Experiencia de vidaMi colegio, el Instituto Cu...   \n",
       "4  'Un cuerpo pequeño de espíritu determinado enc...   \n",
       "\n",
       "                                               METAS P1  \\\n",
       "0  Me veo en un futuro como una profesionista exi...  b   \n",
       "1  Considero que puedo aportar a la comunidad est...  d   \n",
       "2  Quiero ser Ingeniero Mecatronico porque quiero...  b   \n",
       "3  CompromisoDesde que comencé mi vida estudianti...  c   \n",
       "4  'Vive como si fueras a morir mañana, aprende c...  b   \n",
       "\n",
       "                                          DEPORTIVAS DEPORTIVAS_ACTU P2  ...  \\\n",
       "0  Soy parte del equipo de futbol en mi escuela I...               S  b  ...   \n",
       "1  He obtenido varios logros en el baloncesto gra...               S  a  ...   \n",
       "2  En el Instituto Cumbres Piedras Negras he part...               S  b  ...   \n",
       "3  He participado en 2 Torneos de la Amistad, com...               S  a  ...   \n",
       "4  En mi transcurso de la primer en el nivel depo...               S  b  ...   \n",
       "\n",
       "  Foraneo       %Beca               Inglés DIng3y4 DIng5y6 DLengExt DTEC  \\\n",
       "0      NO   60.000000    Lengua extranjera       0       0        1    0   \n",
       "1      NO  100.000000  Inglés remedial III       1       0        0    0   \n",
       "2      NO   15.000989      Sin información       0       0        0    0   \n",
       "3      NO   59.999829      Sin información       0       0        0    0   \n",
       "4      NO   20.000863   Inglés remedial IV       1       0        0    0   \n",
       "\n",
       "        FTE Ensayo Curriculo  \n",
       "0  1.153846     25        15  \n",
       "1  0.846154     19        25  \n",
       "2  0.692308     15        15  \n",
       "3  1.000000     25        25  \n",
       "4  1.000000      6        15  \n",
       "\n",
       "[5 rows x 87 columns]"
      ]
     },
     "execution_count": 3,
     "metadata": {},
     "output_type": "execute_result"
    }
   ],
   "source": [
    "ensayosData.head()"
   ]
  },
  {
   "cell_type": "markdown",
   "metadata": {},
   "source": [
    "## Mi URL y API Key de IBM Personality Insights"
   ]
  },
  {
   "cell_type": "code",
   "execution_count": 4,
   "metadata": {},
   "outputs": [],
   "source": [
    "url = \"https://gateway.watsonplatform.net/personality-insights/api\"\n",
    "apiKey = \"ZqrQk-aL10JeAWI-5ji2JqIS8s63h42CWuXDcG2wwFxy\""
   ]
  },
  {
   "cell_type": "markdown",
   "metadata": {},
   "source": [
    "## Creación de un servicio de personality insights"
   ]
  },
  {
   "cell_type": "code",
   "execution_count": 5,
   "metadata": {},
   "outputs": [
    {
     "name": "stderr",
     "output_type": "stream",
     "text": [
      "C:\\Program Files (x86)\\Microsoft Visual Studio\\Shared\\Anaconda3_64\\lib\\site-packages\\ipykernel_launcher.py:1: DeprecationWarning: watson-developer-cloud moved to ibm-watson. To get updates, use the new package.\n",
      "  \"\"\"Entry point for launching an IPython kernel.\n"
     ]
    }
   ],
   "source": [
    "service = PersonalityInsightsV3(url=url, version='2017-10-13', iam_apikey=apiKey)"
   ]
  },
  {
   "cell_type": "markdown",
   "metadata": {},
   "source": [
    "## Concatenación de los textos en una sola columna para cada registro"
   ]
  },
  {
   "cell_type": "code",
   "execution_count": 6,
   "metadata": {},
   "outputs": [],
   "source": [
    "ensayosData['essayConcat'] = ensayosData.EXPERIENCIA + ensayosData.METAS + ensayosData.DEPORTIVAS + ensayosData.CULTURALES + ensayosData.ESTUDIANTIL + ensayosData.COMUNITARIO + ensayosData.LIDERAZGO + ensayosData.LABORAL + ensayosData.LOGROS_ACAD\n",
    " "
   ]
  },
  {
   "cell_type": "code",
   "execution_count": 7,
   "metadata": {},
   "outputs": [],
   "source": [
    "firstEssay = ensayosData.essayConcat[0]"
   ]
  },
  {
   "cell_type": "markdown",
   "metadata": {},
   "source": [
    "## Creación de un perfil con personality insights y resultados de haberlo aplicado al primer registro de la BD"
   ]
  },
  {
   "cell_type": "code",
   "execution_count": 8,
   "metadata": {},
   "outputs": [],
   "source": [
    "profile = service.profile(firstEssay, content_type='text/plain').get_result()"
   ]
  },
  {
   "cell_type": "code",
   "execution_count": 9,
   "metadata": {},
   "outputs": [
    {
     "name": "stdout",
     "output_type": "stream",
     "text": [
      "{\n",
      "  \"word_count\": 1267,\n",
      "  \"processed_language\": \"en\",\n",
      "  \"personality\": [\n",
      "    {\n",
      "      \"trait_id\": \"big5_openness\",\n",
      "      \"name\": \"Openness\",\n",
      "      \"category\": \"personality\",\n",
      "      \"percentile\": 0.34932650490263695,\n",
      "      \"significant\": true,\n",
      "      \"children\": [\n",
      "        {\n",
      "          \"trait_id\": \"facet_adventurousness\",\n",
      "          \"name\": \"Adventurousness\",\n",
      "          \"category\": \"personality\",\n",
      "          \"percentile\": 0.3494224513383936,\n",
      "          \"significant\": true\n",
      "        },\n",
      "        {\n",
      "          \"trait_id\": \"facet_artistic_interests\",\n",
      "          \"name\": \"Artistic interests\",\n",
      "          \"category\": \"personality\",\n",
      "          \"percentile\": 0.6310389525364467,\n",
      "          \"significant\": true\n",
      "        },\n",
      "        {\n",
      "          \"trait_id\": \"facet_emotionality\",\n",
      "          \"name\": \"Emotionality\",\n",
      "          \"category\": \"personality\",\n",
      "          \"percentile\": 0.5100805087568621,\n",
      "          \"significant\": true\n",
      "        },\n",
      "        {\n",
      "          \"trait_id\": \"facet_imagination\",\n",
      "          \"name\": \"Imagination\",\n",
      "          \"category\": \"personality\",\n",
      "          \"percentile\": 0.6816345974991018,\n",
      "          \"significant\": true\n",
      "        },\n",
      "        {\n",
      "          \"trait_id\": \"facet_intellect\",\n",
      "          \"name\": \"Intellect\",\n",
      "          \"category\": \"personality\",\n",
      "          \"percentile\": 0.7705030957958037,\n",
      "          \"significant\": true\n",
      "        },\n",
      "        {\n",
      "          \"trait_id\": \"facet_liberalism\",\n",
      "          \"name\": \"Authority-challenging\",\n",
      "          \"category\": \"personality\",\n",
      "          \"percentile\": 0.8511893726961901,\n",
      "          \"significant\": true\n",
      "        }\n",
      "      ]\n",
      "    },\n",
      "    {\n",
      "      \"trait_id\": \"big5_conscientiousness\",\n",
      "      \"name\": \"Conscientiousness\",\n",
      "      \"category\": \"personality\",\n",
      "      \"percentile\": 0.23650713459310208,\n",
      "      \"significant\": true,\n",
      "      \"children\": [\n",
      "        {\n",
      "          \"trait_id\": \"facet_achievement_striving\",\n",
      "          \"name\": \"Achievement striving\",\n",
      "          \"category\": \"personality\",\n",
      "          \"percentile\": 0.2549538054691098,\n",
      "          \"significant\": true\n",
      "        },\n",
      "        {\n",
      "          \"trait_id\": \"facet_cautiousness\",\n",
      "          \"name\": \"Cautiousness\",\n",
      "          \"category\": \"personality\",\n",
      "          \"percentile\": 0.39086995639314515,\n",
      "          \"significant\": true\n",
      "        },\n",
      "        {\n",
      "          \"trait_id\": \"facet_dutifulness\",\n",
      "          \"name\": \"Dutifulness\",\n",
      "          \"category\": \"personality\",\n",
      "          \"percentile\": 0.058203554208441866,\n",
      "          \"significant\": true\n",
      "        },\n",
      "        {\n",
      "          \"trait_id\": \"facet_orderliness\",\n",
      "          \"name\": \"Orderliness\",\n",
      "          \"category\": \"personality\",\n",
      "          \"percentile\": 0.4591328559763867,\n",
      "          \"significant\": true\n",
      "        },\n",
      "        {\n",
      "          \"trait_id\": \"facet_self_discipline\",\n",
      "          \"name\": \"Self-discipline\",\n",
      "          \"category\": \"personality\",\n",
      "          \"percentile\": 0.22895243060800624,\n",
      "          \"significant\": true\n",
      "        },\n",
      "        {\n",
      "          \"trait_id\": \"facet_self_efficacy\",\n",
      "          \"name\": \"Self-efficacy\",\n",
      "          \"category\": \"personality\",\n",
      "          \"percentile\": 0.4015952661726586,\n",
      "          \"significant\": true\n",
      "        }\n",
      "      ]\n",
      "    },\n",
      "    {\n",
      "      \"trait_id\": \"big5_extraversion\",\n",
      "      \"name\": \"Extraversion\",\n",
      "      \"category\": \"personality\",\n",
      "      \"percentile\": 0.3831362037417674,\n",
      "      \"significant\": true,\n",
      "      \"children\": [\n",
      "        {\n",
      "          \"trait_id\": \"facet_activity_level\",\n",
      "          \"name\": \"Activity level\",\n",
      "          \"category\": \"personality\",\n",
      "          \"percentile\": 0.3895647335136621,\n",
      "          \"significant\": true\n",
      "        },\n",
      "        {\n",
      "          \"trait_id\": \"facet_assertiveness\",\n",
      "          \"name\": \"Assertiveness\",\n",
      "          \"category\": \"personality\",\n",
      "          \"percentile\": 0.4288343203686828,\n",
      "          \"significant\": true\n",
      "        },\n",
      "        {\n",
      "          \"trait_id\": \"facet_cheerfulness\",\n",
      "          \"name\": \"Cheerfulness\",\n",
      "          \"category\": \"personality\",\n",
      "          \"percentile\": 0.3066083675661286,\n",
      "          \"significant\": true\n",
      "        },\n",
      "        {\n",
      "          \"trait_id\": \"facet_excitement_seeking\",\n",
      "          \"name\": \"Excitement-seeking\",\n",
      "          \"category\": \"personality\",\n",
      "          \"percentile\": 0.9802740597181049,\n",
      "          \"significant\": true\n",
      "        },\n",
      "        {\n",
      "          \"trait_id\": \"facet_friendliness\",\n",
      "          \"name\": \"Outgoing\",\n",
      "          \"category\": \"personality\",\n",
      "          \"percentile\": 0.30966041233616837,\n",
      "          \"significant\": true\n",
      "        },\n",
      "        {\n",
      "          \"trait_id\": \"facet_gregariousness\",\n",
      "          \"name\": \"Gregariousness\",\n",
      "          \"category\": \"personality\",\n",
      "          \"percentile\": 0.41776149789977635,\n",
      "          \"significant\": true\n",
      "        }\n",
      "      ]\n",
      "    },\n",
      "    {\n",
      "      \"trait_id\": \"big5_agreeableness\",\n",
      "      \"name\": \"Agreeableness\",\n",
      "      \"category\": \"personality\",\n",
      "      \"percentile\": 0.26783138015928576,\n",
      "      \"significant\": true,\n",
      "      \"children\": [\n",
      "        {\n",
      "          \"trait_id\": \"facet_altruism\",\n",
      "          \"name\": \"Altruism\",\n",
      "          \"category\": \"personality\",\n",
      "          \"percentile\": 0.4346453501956553,\n",
      "          \"significant\": true\n",
      "        },\n",
      "        {\n",
      "          \"trait_id\": \"facet_cooperation\",\n",
      "          \"name\": \"Cooperation\",\n",
      "          \"category\": \"personality\",\n",
      "          \"percentile\": 0.3068808855607283,\n",
      "          \"significant\": true\n",
      "        },\n",
      "        {\n",
      "          \"trait_id\": \"facet_modesty\",\n",
      "          \"name\": \"Modesty\",\n",
      "          \"category\": \"personality\",\n",
      "          \"percentile\": 0.522738137114916,\n",
      "          \"significant\": true\n",
      "        },\n",
      "        {\n",
      "          \"trait_id\": \"facet_morality\",\n",
      "          \"name\": \"Uncompromising\",\n",
      "          \"category\": \"personality\",\n",
      "          \"percentile\": 0.3446875631605078,\n",
      "          \"significant\": true\n",
      "        },\n",
      "        {\n",
      "          \"trait_id\": \"facet_sympathy\",\n",
      "          \"name\": \"Sympathy\",\n",
      "          \"category\": \"personality\",\n",
      "          \"percentile\": 0.6133318840393726,\n",
      "          \"significant\": true\n",
      "        },\n",
      "        {\n",
      "          \"trait_id\": \"facet_trust\",\n",
      "          \"name\": \"Trust\",\n",
      "          \"category\": \"personality\",\n",
      "          \"percentile\": 0.37379973558286306,\n",
      "          \"significant\": true\n",
      "        }\n",
      "      ]\n",
      "    },\n",
      "    {\n",
      "      \"trait_id\": \"big5_neuroticism\",\n",
      "      \"name\": \"Emotional range\",\n",
      "      \"category\": \"personality\",\n",
      "      \"percentile\": 0.9983899512587386,\n",
      "      \"significant\": true,\n",
      "      \"children\": [\n",
      "        {\n",
      "          \"trait_id\": \"facet_anger\",\n",
      "          \"name\": \"Fiery\",\n",
      "          \"category\": \"personality\",\n",
      "          \"percentile\": 0.584314365387491,\n",
      "          \"significant\": true\n",
      "        },\n",
      "        {\n",
      "          \"trait_id\": \"facet_anxiety\",\n",
      "          \"name\": \"Prone to worry\",\n",
      "          \"category\": \"personality\",\n",
      "          \"percentile\": 0.7294629348173143,\n",
      "          \"significant\": true\n",
      "        },\n",
      "        {\n",
      "          \"trait_id\": \"facet_depression\",\n",
      "          \"name\": \"Melancholy\",\n",
      "          \"category\": \"personality\",\n",
      "          \"percentile\": 0.800744223580665,\n",
      "          \"significant\": true\n",
      "        },\n",
      "        {\n",
      "          \"trait_id\": \"facet_immoderation\",\n",
      "          \"name\": \"Immoderation\",\n",
      "          \"category\": \"personality\",\n",
      "          \"percentile\": 0.742814990879356,\n",
      "          \"significant\": true\n",
      "        },\n",
      "        {\n",
      "          \"trait_id\": \"facet_self_consciousness\",\n",
      "          \"name\": \"Self-consciousness\",\n",
      "          \"category\": \"personality\",\n",
      "          \"percentile\": 0.7227167099375722,\n",
      "          \"significant\": true\n",
      "        },\n",
      "        {\n",
      "          \"trait_id\": \"facet_vulnerability\",\n",
      "          \"name\": \"Susceptible to stress\",\n",
      "          \"category\": \"personality\",\n",
      "          \"percentile\": 0.698579908534626,\n",
      "          \"significant\": true\n",
      "        }\n",
      "      ]\n",
      "    }\n",
      "  ],\n",
      "  \"needs\": [\n",
      "    {\n",
      "      \"trait_id\": \"need_challenge\",\n",
      "      \"name\": \"Challenge\",\n",
      "      \"category\": \"needs\",\n",
      "      \"percentile\": 0.2756360125121363,\n",
      "      \"significant\": true\n",
      "    },\n",
      "    {\n",
      "      \"trait_id\": \"need_closeness\",\n",
      "      \"name\": \"Closeness\",\n",
      "      \"category\": \"needs\",\n",
      "      \"percentile\": 0.3392279184452689,\n",
      "      \"significant\": true\n",
      "    },\n",
      "    {\n",
      "      \"trait_id\": \"need_curiosity\",\n",
      "      \"name\": \"Curiosity\",\n",
      "      \"category\": \"needs\",\n",
      "      \"percentile\": 0.36124288367273155,\n",
      "      \"significant\": true\n",
      "    },\n",
      "    {\n",
      "      \"trait_id\": \"need_excitement\",\n",
      "      \"name\": \"Excitement\",\n",
      "      \"category\": \"needs\",\n",
      "      \"percentile\": 0.39196709447829076,\n",
      "      \"significant\": true\n",
      "    },\n",
      "    {\n",
      "      \"trait_id\": \"need_harmony\",\n",
      "      \"name\": \"Harmony\",\n",
      "      \"category\": \"needs\",\n",
      "      \"percentile\": 0.2669203005217342,\n",
      "      \"significant\": true\n",
      "    },\n",
      "    {\n",
      "      \"trait_id\": \"need_ideal\",\n",
      "      \"name\": \"Ideal\",\n",
      "      \"category\": \"needs\",\n",
      "      \"percentile\": 0.32622525986550266,\n",
      "      \"significant\": true\n",
      "    },\n",
      "    {\n",
      "      \"trait_id\": \"need_liberty\",\n",
      "      \"name\": \"Liberty\",\n",
      "      \"category\": \"needs\",\n",
      "      \"percentile\": 0.3517806448732981,\n",
      "      \"significant\": true\n",
      "    },\n",
      "    {\n",
      "      \"trait_id\": \"need_love\",\n",
      "      \"name\": \"Love\",\n",
      "      \"category\": \"needs\",\n",
      "      \"percentile\": 0.420682390880198,\n",
      "      \"significant\": true\n",
      "    },\n",
      "    {\n",
      "      \"trait_id\": \"need_practicality\",\n",
      "      \"name\": \"Practicality\",\n",
      "      \"category\": \"needs\",\n",
      "      \"percentile\": 0.4650313957196421,\n",
      "      \"significant\": true\n",
      "    },\n",
      "    {\n",
      "      \"trait_id\": \"need_self_expression\",\n",
      "      \"name\": \"Self-expression\",\n",
      "      \"category\": \"needs\",\n",
      "      \"percentile\": 0.32833127609822965,\n",
      "      \"significant\": true\n",
      "    },\n",
      "    {\n",
      "      \"trait_id\": \"need_stability\",\n",
      "      \"name\": \"Stability\",\n",
      "      \"category\": \"needs\",\n",
      "      \"percentile\": 0.2102936240551191,\n",
      "      \"significant\": true\n",
      "    },\n",
      "    {\n",
      "      \"trait_id\": \"need_structure\",\n",
      "      \"name\": \"Structure\",\n",
      "      \"category\": \"needs\",\n",
      "      \"percentile\": 0.18636324159014805,\n",
      "      \"significant\": true\n",
      "    }\n",
      "  ],\n",
      "  \"values\": [\n",
      "    {\n",
      "      \"trait_id\": \"value_conservation\",\n",
      "      \"name\": \"Conservation\",\n",
      "      \"category\": \"values\",\n",
      "      \"percentile\": 0.18471933299188803,\n",
      "      \"significant\": true\n",
      "    },\n",
      "    {\n",
      "      \"trait_id\": \"value_openness_to_change\",\n",
      "      \"name\": \"Openness to change\",\n",
      "      \"category\": \"values\",\n",
      "      \"percentile\": 0.4548734352895621,\n",
      "      \"significant\": true\n",
      "    },\n",
      "    {\n",
      "      \"trait_id\": \"value_hedonism\",\n",
      "      \"name\": \"Hedonism\",\n",
      "      \"category\": \"values\",\n",
      "      \"percentile\": 0.5153223433018258,\n",
      "      \"significant\": true\n",
      "    },\n",
      "    {\n",
      "      \"trait_id\": \"value_self_enhancement\",\n",
      "      \"name\": \"Self-enhancement\",\n",
      "      \"category\": \"values\",\n",
      "      \"percentile\": 0.3555257162857798,\n",
      "      \"significant\": true\n",
      "    },\n",
      "    {\n",
      "      \"trait_id\": \"value_self_transcendence\",\n",
      "      \"name\": \"Self-transcendence\",\n",
      "      \"category\": \"values\",\n",
      "      \"percentile\": 0.10540582443070218,\n",
      "      \"significant\": true\n",
      "    }\n",
      "  ],\n",
      "  \"warnings\": []\n",
      "}\n"
     ]
    }
   ],
   "source": [
    "print(json.dumps(profile, indent=2))"
   ]
  },
  {
   "cell_type": "markdown",
   "metadata": {},
   "source": [
    "## Visualización del perfil "
   ]
  },
  {
   "cell_type": "code",
   "execution_count": 10,
   "metadata": {},
   "outputs": [],
   "source": [
    "result = {need['name']:need['percentile'] for need in profile['needs']}"
   ]
  },
  {
   "cell_type": "code",
   "execution_count": 11,
   "metadata": {},
   "outputs": [],
   "source": [
    "df = pd.DataFrame.from_dict(result,orient='index')"
   ]
  },
  {
   "cell_type": "code",
   "execution_count": 12,
   "metadata": {},
   "outputs": [],
   "source": [
    "df.reset_index(inplace=True)"
   ]
  },
  {
   "cell_type": "markdown",
   "metadata": {},
   "source": [
    "### Necesidades"
   ]
  },
  {
   "cell_type": "code",
   "execution_count": 13,
   "metadata": {},
   "outputs": [],
   "source": [
    "df.columns = ['need','percentile']"
   ]
  },
  {
   "cell_type": "code",
   "execution_count": 102,
   "metadata": {},
   "outputs": [
    {
     "data": {
      "text/html": [
       "<div>\n",
       "<style scoped>\n",
       "    .dataframe tbody tr th:only-of-type {\n",
       "        vertical-align: middle;\n",
       "    }\n",
       "\n",
       "    .dataframe tbody tr th {\n",
       "        vertical-align: top;\n",
       "    }\n",
       "\n",
       "    .dataframe thead th {\n",
       "        text-align: right;\n",
       "    }\n",
       "</style>\n",
       "<table border=\"1\" class=\"dataframe\">\n",
       "  <thead>\n",
       "    <tr style=\"text-align: right;\">\n",
       "      <th></th>\n",
       "      <th>need</th>\n",
       "      <th>percentile</th>\n",
       "    </tr>\n",
       "  </thead>\n",
       "  <tbody>\n",
       "    <tr>\n",
       "      <th>0</th>\n",
       "      <td>Challenge</td>\n",
       "      <td>0.275636</td>\n",
       "    </tr>\n",
       "    <tr>\n",
       "      <th>1</th>\n",
       "      <td>Closeness</td>\n",
       "      <td>0.339228</td>\n",
       "    </tr>\n",
       "    <tr>\n",
       "      <th>2</th>\n",
       "      <td>Curiosity</td>\n",
       "      <td>0.361243</td>\n",
       "    </tr>\n",
       "    <tr>\n",
       "      <th>3</th>\n",
       "      <td>Excitement</td>\n",
       "      <td>0.391967</td>\n",
       "    </tr>\n",
       "    <tr>\n",
       "      <th>4</th>\n",
       "      <td>Harmony</td>\n",
       "      <td>0.266920</td>\n",
       "    </tr>\n",
       "    <tr>\n",
       "      <th>5</th>\n",
       "      <td>Ideal</td>\n",
       "      <td>0.326225</td>\n",
       "    </tr>\n",
       "    <tr>\n",
       "      <th>6</th>\n",
       "      <td>Liberty</td>\n",
       "      <td>0.351781</td>\n",
       "    </tr>\n",
       "    <tr>\n",
       "      <th>7</th>\n",
       "      <td>Love</td>\n",
       "      <td>0.420682</td>\n",
       "    </tr>\n",
       "    <tr>\n",
       "      <th>8</th>\n",
       "      <td>Practicality</td>\n",
       "      <td>0.465031</td>\n",
       "    </tr>\n",
       "    <tr>\n",
       "      <th>9</th>\n",
       "      <td>Self-expression</td>\n",
       "      <td>0.328331</td>\n",
       "    </tr>\n",
       "    <tr>\n",
       "      <th>10</th>\n",
       "      <td>Stability</td>\n",
       "      <td>0.210294</td>\n",
       "    </tr>\n",
       "    <tr>\n",
       "      <th>11</th>\n",
       "      <td>Structure</td>\n",
       "      <td>0.186363</td>\n",
       "    </tr>\n",
       "  </tbody>\n",
       "</table>\n",
       "</div>"
      ],
      "text/plain": [
       "               need  percentile\n",
       "0         Challenge    0.275636\n",
       "1         Closeness    0.339228\n",
       "2         Curiosity    0.361243\n",
       "3        Excitement    0.391967\n",
       "4           Harmony    0.266920\n",
       "5             Ideal    0.326225\n",
       "6           Liberty    0.351781\n",
       "7              Love    0.420682\n",
       "8      Practicality    0.465031\n",
       "9   Self-expression    0.328331\n",
       "10        Stability    0.210294\n",
       "11        Structure    0.186363"
      ]
     },
     "execution_count": 102,
     "metadata": {},
     "output_type": "execute_result"
    }
   ],
   "source": [
    "df"
   ]
  },
  {
   "cell_type": "code",
   "execution_count": 44,
   "metadata": {},
   "outputs": [
    {
     "data": {
      "image/png": "[encoded data removed]",
      "text/plain": [
       "<Figure size 1080x360 with 1 Axes>"
      ]
     },
     "metadata": {
      "needs_background": "light"
     },
     "output_type": "display_data"
    }
   ],
   "source": [
    "plt.figure(figsize=(15,5))\n",
    "ax = plt.gca()\n",
    "ax.set_ylim([0,1])\n",
    "sns.barplot(y='percentile', x='need', data = df).set_title(\"NEEDS\")\n",
    "plt.show()\n",
    "#plt.bar(df.need,df.percentile)\n"
   ]
  },
  {
   "cell_type": "code",
   "execution_count": 118,
   "metadata": {},
   "outputs": [],
   "source": [
    "def create_trait_plots(traits):\n",
    "    result = { trait['name']:trait['percentile'] for trait in traits}\n",
    "    df = pd.DataFrame.from_dict(result, orient='index')\n",
    "    df.reset_index(inplace=True)\n",
    "    df.columns = ['name','percentile']\n",
    "    print(df)\n",
    "    plt.figure(figsize=(15,5))\n",
    "    ax = plt.gca()\n",
    "    ax.set_ylim([0,1])\n",
    "    sns.barplot(y='percentile',x='name',data=df).set_title(str(traits[0]['category']).upper())\n",
    "    plt.show()"
   ]
  },
  {
   "cell_type": "markdown",
   "metadata": {},
   "source": [
    "### Valores"
   ]
  },
  {
   "cell_type": "code",
   "execution_count": 119,
   "metadata": {
    "scrolled": false
   },
   "outputs": [
    {
     "name": "stdout",
     "output_type": "stream",
     "text": [
      "                 name  percentile\n",
      "0        Conservation    0.184719\n",
      "1  Openness to change    0.454873\n",
      "2            Hedonism    0.515322\n",
      "3    Self-enhancement    0.355526\n",
      "4  Self-transcendence    0.105406\n"
     ]
    },
    {
     "data": {
      "image/png": "[encoded data removed]",
      "text/plain": [
       "<Figure size 1080x360 with 1 Axes>"
      ]
     },
     "metadata": {
      "needs_background": "light"
     },
     "output_type": "display_data"
    }
   ],
   "source": [
    "create_trait_plots(profile['values'])"
   ]
  },
  {
   "cell_type": "code",
   "execution_count": 120,
   "metadata": {},
   "outputs": [],
   "source": [
    "def create_trait_plots(traits,parent):\n",
    "    result = { trait['name']:trait['percentile'] for trait in traits}\n",
    "    df = pd.DataFrame.from_dict(result, orient='index')\n",
    "    df.reset_index(inplace=True)\n",
    "    df.columns = ['name','percentile']\n",
    "    print(df)\n",
    "    plt.figure(figsize=(15,5))\n",
    "    ax = plt.gca()\n",
    "    ax.set_ylim([0,1])\n",
    "    sns.barplot(y='percentile',x='name',data=df).set_title(str(parent['name']).upper())\n",
    "    plt.show()"
   ]
  },
  {
   "cell_type": "markdown",
   "metadata": {},
   "source": [
    "### Las big5 (5 grandes razgos de personalidad)"
   ]
  },
  {
   "cell_type": "code",
   "execution_count": 121,
   "metadata": {},
   "outputs": [
    {
     "name": "stdout",
     "output_type": "stream",
     "text": [
      "                    name  percentile\n",
      "0        Adventurousness    0.349422\n",
      "1     Artistic interests    0.631039\n",
      "2           Emotionality    0.510081\n",
      "3            Imagination    0.681635\n",
      "4              Intellect    0.770503\n",
      "5  Authority-challenging    0.851189\n"
     ]
    },
    {
     "data": {
      "image/png": "[encoded data removed]",
      "text/plain": [
       "<Figure size 1080x360 with 1 Axes>"
      ]
     },
     "metadata": {
      "needs_background": "light"
     },
     "output_type": "display_data"
    },
    {
     "name": "stdout",
     "output_type": "stream",
     "text": [
      "                   name  percentile\n",
      "0  Achievement striving    0.254954\n",
      "1          Cautiousness    0.390870\n",
      "2           Dutifulness    0.058204\n",
      "3           Orderliness    0.459133\n",
      "4       Self-discipline    0.228952\n",
      "5         Self-efficacy    0.401595\n"
     ]
    },
    {
     "data": {
      "image/png": "[encoded data removed]",
      "text/plain": [
       "<Figure size 1080x360 with 1 Axes>"
      ]
     },
     "metadata": {
      "needs_background": "light"
     },
     "output_type": "display_data"
    },
    {
     "name": "stdout",
     "output_type": "stream",
     "text": [
      "                 name  percentile\n",
      "0      Activity level    0.389565\n",
      "1       Assertiveness    0.428834\n",
      "2        Cheerfulness    0.306608\n",
      "3  Excitement-seeking    0.980274\n",
      "4            Outgoing    0.309660\n",
      "5      Gregariousness    0.417761\n"
     ]
    },
    {
     "data": {
      "image/png": "[encoded data removed]",
      "text/plain": [
       "<Figure size 1080x360 with 1 Axes>"
      ]
     },
     "metadata": {
      "needs_background": "light"
     },
     "output_type": "display_data"
    },
    {
     "name": "stdout",
     "output_type": "stream",
     "text": [
      "             name  percentile\n",
      "0        Altruism    0.434645\n",
      "1     Cooperation    0.306881\n",
      "2         Modesty    0.522738\n",
      "3  Uncompromising    0.344688\n",
      "4        Sympathy    0.613332\n",
      "5           Trust    0.373800\n"
     ]
    },
    {
     "data": {
      "image/png": "[encoded data removed]",
      "text/plain": [
       "<Figure size 1080x360 with 1 Axes>"
      ]
     },
     "metadata": {
      "needs_background": "light"
     },
     "output_type": "display_data"
    },
    {
     "name": "stdout",
     "output_type": "stream",
     "text": [
      "                    name  percentile\n",
      "0                  Fiery    0.584314\n",
      "1         Prone to worry    0.729463\n",
      "2             Melancholy    0.800744\n",
      "3           Immoderation    0.742815\n",
      "4     Self-consciousness    0.722717\n",
      "5  Susceptible to stress    0.698580\n"
     ]
    },
    {
     "data": {
      "image/png": "[encoded data removed]",
      "text/plain": [
       "<Figure size 1080x360 with 1 Axes>"
      ]
     },
     "metadata": {
      "needs_background": "light"
     },
     "output_type": "display_data"
    },
    {
     "data": {
      "text/plain": [
       "[None, None, None, None, None]"
      ]
     },
     "execution_count": 121,
     "metadata": {},
     "output_type": "execute_result"
    }
   ],
   "source": [
    "[create_trait_plots(big5['children'],big5) for big5 in profile['personality']]"
   ]
  }
 ],
 "metadata": {
  "kernelspec": {
   "display_name": "Python 3",
   "language": "python",
   "name": "python3"
  },
  "language_info": {
   "codemirror_mode": {
    "name": "ipython",
    "version": 3
   },
   "file_extension": ".py",
   "mimetype": "text/x-python",
   "name": "python",
   "nbconvert_exporter": "python",
   "pygments_lexer": "ipython3",
   "version": "3.6.8"
  }
 },
 "nbformat": 4,
 "nbformat_minor": 2
}
